{
 "cells": [
  {
   "cell_type": "code",
   "execution_count": 4,
   "metadata": {
    "collapsed": false,
    "scrolled": true
   },
   "outputs": [
    {
     "name": "stdout",
     "output_type": "stream",
     "text": [
      "ipc-static [-Bqsv] [-b buffersize] [-i pipe|local|tcp] [-p tcp_port]\r\n",
      "\t[-P l1d|l1i|l2|mem|tlb|axi] [-t totalsize] mode\r\n",
      "\r\n",
      "Modes (pick one - default 1thread):\r\n",
      "    1thread                IPC within a single thread\r\n",
      "    2thread                IPC between two threads in one process\r\n",
      "    2proc                  IPC between two threads in two different processes\r\n",
      "\r\n",
      "Optional flags:\r\n",
      "    -B                     Run in bare mode: no preparatory activities\r\n",
      "    -i pipe|local|tcp      Select pipe, local sockets, or TCP (default: pipe)\r\n",
      "    -p tcp_port            Set TCP port number (default: 10141)\r\n",
      "    -P l1d|l1i|l2|mem|tlb|axi  Enable hardware performance counters\r\n",
      "    -q                     Just run the benchmark, don't print stuff out\r\n",
      "    -s                     Set send/receive socket-buffer sizes to buffersize\r\n",
      "    -v                     Provide a verbose benchmark description\r\n",
      "    -b buffersize          Specify a buffer size (default: 131072)\r\n",
      "    -t totalsize           Specify total I/O size (default: 16777216)\r\n"
     ]
    }
   ],
   "source": [
    "!ipc/ipc-static"
   ]
  },
  {
   "cell_type": "code",
   "execution_count": 5,
   "metadata": {
    "collapsed": false
   },
   "outputs": [
    {
     "name": "stdout",
     "output_type": "stream",
     "text": [
      "274948.53 KBytes/sec\n",
      "135210.06 KBytes/sec\n"
     ]
    }
   ],
   "source": [
    "!ipc/ipc-static -i pipe 2thread\n",
    "!ipc/ipc-static -i local 2thread"
   ]
  },
  {
   "cell_type": "code",
   "execution_count": 6,
   "metadata": {
    "collapsed": false
   },
   "outputs": [
    {
     "name": "stdout",
     "output_type": "stream",
     "text": [
      "46141.98 KBytes/sec\r\n"
     ]
    }
   ],
   "source": [
    "!ipc/ipc-static -i local -s -b 1024 2thread"
   ]
  },
  {
   "cell_type": "code",
   "execution_count": 7,
   "metadata": {
    "collapsed": false
   },
   "outputs": [
    {
     "name": "stdout",
     "output_type": "stream",
     "text": [
      "Benchmark configuration:\r\n",
      "  buffersize: 131072\r\n",
      "  totalsize: 16777216\r\n",
      "  blockcount: 128\r\n",
      "  mode: 2thread\r\n",
      "  ipctype: pipe\r\n",
      "  time: 0.059394292\r\n",
      "275851.42 KBytes/sec\r\n"
     ]
    }
   ],
   "source": [
    "!ipc/ipc-static -v -i pipe 2thread"
   ]
  },
  {
   "cell_type": "code",
   "execution_count": 8,
   "metadata": {
    "collapsed": true
   },
   "outputs": [],
   "source": [
    "!ipc/ipc-static -q -B -i pipe 2thread"
   ]
  },
  {
   "cell_type": "code",
   "execution_count": 14,
   "metadata": {
    "collapsed": false
   },
   "outputs": [
    {
     "name": "stdout",
     "output_type": "stream",
     "text": [
      "kern.ipc.maxsockbuf: 33554432 -> 33554432\r\n"
     ]
    }
   ],
   "source": [
    "\n",
    "setup_kernel()"
   ]
  },
  {
   "cell_type": "markdown",
   "metadata": {},
   "source": [
    "## Things to do\n",
    "- [ ] instrument clock_gettime for the IPC loop\n",
    "- [ ] it may be sensible to inspect quantize() results for both the execution time distributions of the system calls, and the amount of data returned by each\n",
    "- [ ] investigate scheduling events using the sched provider ( on-cpu and off-cpu events)\n",
    "- [ ] instrument sleep and wakeup\n",
    "- [ ] take care about pid and tid\n",
    "- [ ] probe effect: one simple way to approach the problem is to analyse the results of performance benchmarking with and without DTrace scripts running\n",
    "- [ ] discard the first result\n",
    "- [ ] read the FreeBSD Benchmarking Advice wiki\n",
    "### questions to answer\n",
    "- How does increasing IPC buffer size uniformly change performance across IPC models – and why?\n",
    "- Explore the impact of the probe effect on your causal investigation; how has DTrace changed the behavior of the benchmark?\n"
   ]
  },
  {
   "cell_type": "code",
   "execution_count": 16,
   "metadata": {
    "collapsed": true
   },
   "outputs": [],
   "source": [
    "from collections import defaultdict\n",
    "\n",
    "\n",
    "def setup_kernel():\n",
    "    !sysctl kern.ipc.maxsockbuf=33554432\n",
    "# Callback invoked to print the trace record\n",
    "# (that is, printf(\"%u\", vtimestamp - self->start))\n",
    "\n",
    "def benchmark(flags, output_name, trials, buff_sizes, dtrace_script,quiet=False):\n",
    "    values = []\n",
    "    aggr_dict = defaultdict(int)\n",
    "    \n",
    "    def simple_out(value):\n",
    "        values.append(value)\n",
    "    \n",
    "    def walk_func(a, b, c, d):\n",
    "        aggr_dict[c[0]] += d\n",
    "    \n",
    "    # print_header([\"Starting io-static performance measurement\",flags])\n",
    "\n",
    "        # Create a seperate thread to run the DTrace instrumentation\n",
    "    setup_kernel()\n",
    "    dtrace_thread = DTraceConsumerThread(dtrace_script,\n",
    "                                    chew_func=lambda v: None,\n",
    "                                        chewrec_func=lambda v: None,\n",
    "                                        out_func=simple_out,\n",
    "                                        walk_func=walk_func,\n",
    "                                        sleep=1)\n",
    "\n",
    "    # Start the DTrace instrumentation\n",
    "    dtrace_thread.start()\n",
    "\n",
    "    # Display header to indicate that the benchmarking has started\n",
    "    for size in buff_sizes:\n",
    "        if not quiet:\n",
    "            print(\"buffer size:\", size, \"collected so far: \",len(values))\n",
    "        for i in range(trials):\n",
    "            output = !ipc/ipc-static -B -q -b {str(size)} {flags}\n",
    "            \n",
    "    # The benchmark has completed - stop the DTrace instrumentation\n",
    "    dtrace_thread.stop()\n",
    "    dtrace_thread.join()\n",
    "    dtrace_thread.consumer.__del__()\n",
    "\n",
    "    if not quiet:\n",
    "        print(\"values collected:\", len(values))\n",
    "\n",
    "    with open(\"lab1_{}_0702.data\".format(output_name), 'w') as f:\n",
    "        f.write(\",\".join([str(s) for s in BUFFER_SIZES]))\n",
    "        f.write(\"\\n\")\n",
    "        for value in values:\n",
    "            f.write(value)\n",
    "            f.write(\"\\n\")\n",
    "    return values, aggr_dict"
   ]
  },
  {
   "cell_type": "code",
   "execution_count": null,
   "metadata": {
    "collapsed": true
   },
   "outputs": [],
   "source": [
    "# IO performance varying the buffer size\n",
    "io_performance_script = \"\"\"\n",
    "\n",
    "BEGIN {\n",
    "}\n",
    "\n",
    "syscall::clock_gettime:return\n",
    "/execname == \"io-static\" && !self->in_benchmark/\n",
    "{\n",
    "    self->in_benchmark = 1;\n",
    "    self->cstart = vtimestamp;\n",
    "}\n",
    "\n",
    "syscall::clock_gettime:entry\n",
    "/execname == \"io-static\" && self->in_benchmark/\n",
    "{\n",
    "    self->in_benchmark = 0;\n",
    "    trace(vtimestamp - self->cstart);\n",
    "}\n",
    "\n",
    "END\n",
    "{\n",
    "    exit(0);\n",
    "}\n",
    "\"\"\"\n"
   ]
  }
 ],
 "metadata": {
  "kernelspec": {
   "display_name": "Python 2",
   "language": "python",
   "name": "python2"
  },
  "language_info": {
   "codemirror_mode": {
    "name": "ipython",
    "version": 2
   },
   "file_extension": ".py",
   "mimetype": "text/x-python",
   "name": "python",
   "nbconvert_exporter": "python",
   "pygments_lexer": "ipython2",
   "version": "2.7.13"
  }
 },
 "nbformat": 4,
 "nbformat_minor": 1
}
