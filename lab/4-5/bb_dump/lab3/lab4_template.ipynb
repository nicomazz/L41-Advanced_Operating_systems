{
 "cells": [
  {
   "cell_type": "markdown",
   "metadata": {},
   "source": [
    "# L41: Lab 4 - The TCP state machine"
   ]
  },
  {
   "cell_type": "markdown",
   "metadata": {},
   "source": [
    "The goals of this and the following lab are to:\n",
    "\n",
    "- Use DTrace to investigate the actual TCP state machine and its interactions with the network stack.\n",
    "- Use DTrace and DUMMYNET to investigate the effects of latency on TCP state transitions.\n",
    "\n",
    "In this lab, we begin that investigation, which will be extended to include additional exploration of TCP bandwidth in Lab 5."
   ]
  },
  {
   "cell_type": "markdown",
   "metadata": {},
   "source": [
    "---\n",
    "## Note on kernel configuration\n",
    "\n",
    "By default, the kernel limits the maximum per-socket socket-buffer size that can be configured, in order to avoid resource starvation. You will need to tune the kernel’s default limits using the following command, run as root, prior to running benchmarks. Note that this should be set before any benchmarks are run, whether or not they are explicitly configuring the socket-buffer size, as the limit will also affect socket-buffer auto-sizing."
   ]
  },
  {
   "cell_type": "code",
   "execution_count": 1,
   "metadata": {
    "collapsed": false
   },
   "outputs": [
    {
     "name": "stdout",
     "output_type": "stream",
     "text": [
      "kern.ipc.maxsockbuf: 33554432 -> 33554432\r\n"
     ]
    }
   ],
   "source": [
    "!sysctl kern.ipc.maxsockbuf=33554432"
   ]
  },
  {
   "cell_type": "markdown",
   "metadata": {},
   "source": [
    "---\n",
    "## Running the benchmark\n",
    "\n",
    "As before, you can run the benchmark using the ipc-static and ipc-dynamic commands, specifying vari- ous benchmark parameters. For the purposes of this benchmark, we recommend the following configuration:\n",
    "\n",
    "- Use ipc-static.\n",
    "- Use 2-thread mode.\n",
    "- Do not set the socket-buffer size flag.\n",
    "- Do not modify the total I/O size."
   ]
  },
  {
   "cell_type": "markdown",
   "metadata": {
    "collapsed": true
   },
   "source": [
    "---\n",
    "### IPFW and DUMMYNET\n",
    "\n",
    "To control latency for our experimental traffic, we will employ the IPFW firewall for packet classification, and the DUMMYNET traffic-control facility to pass packets over simulated ‘pipes’. To configure two 1-way DUM- MYNET pipes, each carrying a 10ms one-way latency, run the following cell (or run the commands in the shell):"
   ]
  },
  {
   "cell_type": "code",
   "execution_count": 2,
   "metadata": {
    "collapsed": true
   },
   "outputs": [],
   "source": [
    "latency = 10\n",
    "\n",
    "!ipfw pipe config 1 delay {str(latency)}\n",
    "!ipfw pipe config 2 delay {str(latency)}"
   ]
  },
  {
   "cell_type": "markdown",
   "metadata": {
    "collapsed": true
   },
   "source": [
    "During your experiments, you will wish to change the simulated latency to other values, which can be done by reconfiguring the pipes. Do this by repeating the above two commands but with modified last parameters, which specify one-way latencies in milliseconds (e.g., replace ‘10’ with ‘5’ in both commands). The total Round-Trip Time (RTT) is the sum of the two latencies – i.e., 10ms in each direction comes to a total of 20ms RTT. Note that DUMMYNET is a simulation tool, and subject to limits on granularity and precision. Next, you must assign traffic associated with the experiment, classified by its TCP port number and presence on the loopback interface (lo0), to the pipes to inject latency:"
   ]
  },
  {
   "cell_type": "code",
   "execution_count": 3,
   "metadata": {
    "collapsed": false
   },
   "outputs": [
    {
     "name": "stdout",
     "output_type": "stream",
     "text": [
      "00001 pipe 1 tcp from any 10141 to any via lo0\n",
      "00002 pipe 2 tcp from any to any dst-port 10141 via lo0\n"
     ]
    }
   ],
   "source": [
    "!ipfw add 1 pipe 1 tcp from any 10141 to any via lo0\n",
    "!ipfw add 2 pipe 2 tcp from any to any 10141 via lo0"
   ]
  },
  {
   "cell_type": "markdown",
   "metadata": {},
   "source": [
    "### Configuring the loopback MTU\n",
    "\n",
    "Network interfaces have a configured Maximum Transmission Unit (MTU) – the size, in bytes, of the largest packet that can be sent. For most Ethernet and Ethernet-like interfaces, the MTU is typically 1,500 bytes, although larger ‘jumbograms’ can also be used in LAN environments. The loopback interface provides a simulated network interface carrying traffic for loopback addresses such as 127.0.0.1 (localhost), and typically uses a larger (16K+) MTU. To allow our simulated results to more closely resemble LAN or WAN traffic, run the following command as root to set the loopback-interface MTU to 1,500 bytes after each boot:"
   ]
  },
  {
   "cell_type": "code",
   "execution_count": 4,
   "metadata": {
    "collapsed": true
   },
   "outputs": [],
   "source": [
    "!ifconfig lo0 mtu 1500"
   ]
  },
  {
   "cell_type": "markdown",
   "metadata": {},
   "source": [
    "### Example benchmark commands"
   ]
  },
  {
   "cell_type": "markdown",
   "metadata": {},
   "source": [
    "This command instructs the IPC benchmark to perform a transfer over TCP in 2-thread mode:"
   ]
  },
  {
   "cell_type": "code",
   "execution_count": null,
   "metadata": {
    "collapsed": false
   },
   "outputs": [],
   "source": [
    "# Example benchmark command\n",
    "print_header(\"Creating file to run benchmark\")\n",
    "\n",
    "!ipc/ipc-static -v -i tcp 2thread\n",
    "    \n",
    "print_footer(\"Completed\")"
   ]
  },
  {
   "cell_type": "markdown",
   "metadata": {},
   "source": [
    "---\n",
    "## Exploring the TCP state machine"
   ]
  },
  {
   "cell_type": "markdown",
   "metadata": {},
   "source": [
    "The following example demonstrates:\n",
    "\n",
    "- Tracing state transitions and\n",
    "- using DTrace’s stack() function to determine which state transitions are triggered by packets received over the network (e.g., passing via tcp input() vs. those that are triggered by local system calls)."
   ]
  },
  {
   "cell_type": "code",
   "execution_count": 5,
   "metadata": {
    "collapsed": false
   },
   "outputs": [
    {
     "name": "stdout",
     "output_type": "stream",
     "text": [
      "********************************************************************************\n",
      "* Running ipc benchmark\n",
      "********************************************************************************\n",
      "State transition state-closed -> state-listen\n",
      "Preceeding stack frame               kernel`sys_listen+0x88\n",
      "State transition state-closed -> state-syn-sent\n",
      "Preceeding stack frame               kernel`tcp_usr_connect+0x144\n",
      "State transition state-syn-sent -> state-established\n",
      "Preceeding stack frame               kernel`tcp_input+0xf60\n",
      "State transition state-closed -> state-syn-received\n",
      "Preceeding stack frame               kernel`tcp_input+0x1140\n",
      "State transition state-syn-received -> state-established\n",
      "Preceeding stack frame               kernel`tcp_input+0x1544\n",
      "State transition state-established -> state-fin-wait-1\n",
      "Preceeding stack frame               kernel`tcp_disconnect+0x5c\n",
      "State transition state-established -> state-fin-wait-1\n",
      "Preceeding stack frame               kernel`tcp_disconnect+0x5c\n",
      "State transition state-fin-wait-1 -> state-closing\n",
      "Preceeding stack frame               kernel`tcp_input+0xf60\n",
      "State transition state-fin-wait-1 -> state-closing\n",
      "Preceeding stack frame               kernel`tcp_input+0xf60\n",
      "State transition state-closing -> state-time-wait\n",
      "Preceeding stack frame               kernel`tcp_do_segment+0x1f1c\n",
      "State transition state-closing -> state-time-wait\n",
      "Preceeding stack frame               kernel`tcp_do_segment+0x1f1c\n",
      "********************************************************************************\n",
      "* Completed\n",
      "********************************************************************************\n"
     ]
    }
   ],
   "source": [
    "# Configure the one-way latency to 10ms\n",
    "latency = 10\n",
    "\n",
    "!ipfw pipe config 1 delay {str(latency)}\n",
    "!ipfw pipe config 2 delay {str(latency)}\n",
    "\n",
    "# Trace state transitions printing the receiving and sending port numbers for\n",
    "# the connection experiencing the transi- tion:\n",
    "tcp_state_change_script = \"\"\"\n",
    "fbt::tcp_state_change:entry {\n",
    "    printf(\"{\\\\\"timestamp\\\\\": %u, \\\\\"local_port\\\\\": %u, \\\\\"foreign_port\\\\\": %u, \\\\\"previous_tcp_state\\\\\": \\\\\"%s\\\\\", \\\\\"tcp_state\\\\\": \\\\\"%s\\\\\"}\", \n",
    "    walltimestamp,\n",
    "    ntohs(args[0]->t_inpcb->inp_inc.inc_ie.ie_lport),\n",
    "    ntohs(args[0]->t_inpcb->inp_inc.inc_ie.ie_fport),\n",
    "    tcp_state_string[args[0]->t_state],\n",
    "    tcp_state_string[args[1]]);\n",
    "\n",
    "    stack();\n",
    "}\n",
    "\"\"\"\n",
    "\n",
    "# Callback invoked to process the aggregation\n",
    "values = []\n",
    "\n",
    "def simple_out(raw_value):\n",
    "    values.append(raw_value)\n",
    "\n",
    "# Create a seperate thread to run the DTrace instrumentation\n",
    "dtrace_thread = DTraceConsumerThread(tcp_state_change_script,\n",
    "                                    out_func=simple_out,\n",
    "                                    chew_func=lambda v: None,\n",
    "                                    chewrec_func=lambda v: None,\n",
    "                                    walk_func=None,\n",
    "                                    sleep=1)\n",
    "\n",
    "# Start the DTrace instrumentation\n",
    "dtrace_thread.start()\n",
    "\n",
    "# Display header to indicate that the benchmarking has started\n",
    "print_header(\"Running ipc benchmark\")\n",
    "\n",
    "# Run the ipc-static benchmark\n",
    "benchmark_output = !ipc/ipc-static -v -i tcp 2thread\n",
    "\n",
    "# The benchmark has completed - stop the DTrace instrumentation\n",
    "dtrace_thread.stop()\n",
    "dtrace_thread.join()\n",
    "dtrace_thread.consumer.__del__()\n",
    "\n",
    "for raw_value in values:\n",
    "    try:\n",
    "        value = json.loads(raw_value)\n",
    "        # JSON formatted string\n",
    "        if value['previous_tcp_state'] is not None and value['tcp_state'] is not None:\n",
    "            print \"State transition {} -> {}\".format(\n",
    "                value['previous_tcp_state'], value['tcp_state'])\n",
    "        else:\n",
    "            print \"String malformatted missing previous_tcp_state of tcp_state fields\"\n",
    "    except ValueError as e:\n",
    "        # Raw string - manually post-process\n",
    "        print \"Preceeding stack frame {}\".format(raw_value.split('\\n')[1])\n",
    "        \n",
    "print_footer(\"Completed\")"
   ]
  },
  {
   "cell_type": "code",
   "execution_count": 8,
   "metadata": {
    "collapsed": true
   },
   "outputs": [],
   "source": [
    "benchmark_output = !ipc/ipc-static -v -i tcp 2thread"
   ]
  },
  {
   "cell_type": "markdown",
   "metadata": {},
   "source": [
    "---\n",
    "## Graphviz"
   ]
  },
  {
   "cell_type": "markdown",
   "metadata": {},
   "source": [
    "\"PyGraphviz is a Python interface to the Graphviz graph layout and visualization package. With PyGraphviz you can create, edit, read, write, and draw graphs using Python to access the Graphviz graph data structure and layout algorithms.\"\n",
    "\n",
    "The following example demonstrates the use of **pygraphviz** to plot a portion of the TCP finite state machine:"
   ]
  },
  {
   "cell_type": "code",
   "execution_count": 6,
   "metadata": {
    "collapsed": false
   },
   "outputs": [
    {
     "data": {
      "image/png": "[encoded data removed]",
      "text/plain": [
       "<IPython.core.display.Image object>"
      ]
     },
     "execution_count": 6,
     "metadata": {},
     "output_type": "execute_result"
    }
   ],
   "source": [
    "import pygraphviz as pgv\n",
    "from IPython.display import Image\n",
    "\n",
    "# Create the example state machine\n",
    "state_machine_example = pgv.AGraph(\n",
    "    label=\"TCP state machine\", strict=False, directed=True)\n",
    "\n",
    "state_machine_example.add_edge(\"closed\", \"syn-sent\",\n",
    "                label=\"Active open\", color='green')\n",
    "closed_node = state_machine_example.get_node(\"closed\")\n",
    "closed_node.attr['shape']='box'\n",
    "closed_node.attr['color']='blue'\n",
    "state_machine_example.add_edge(\n",
    "                \"syn-sent\", \"established\",\n",
    "                label=\"Rx (SYN+ACK), Tx (ACK)\", color='green')\n",
    "state_machine_example.add_edge(\n",
    "               \"established\", \"fin-wait-1\",\n",
    "                label=\"Close, Tx (FIN)\", color='green')\n",
    "\n",
    "# Draw the state machine\n",
    "Image(state_machine_example.draw(format='png', prog='dot')) "
   ]
  },
  {
   "cell_type": "markdown",
   "metadata": {},
   "source": [
    "State machine diagrams can also be created from either a file or string in the *dot* format:"
   ]
  },
  {
   "cell_type": "code",
   "execution_count": 7,
   "metadata": {
    "collapsed": false
   },
   "outputs": [
    {
     "data": {
      "image/png": "[encoded data removed]",
      "text/plain": [
       "<IPython.core.display.Image object>"
      ]
     },
     "execution_count": 7,
     "metadata": {},
     "output_type": "execute_result"
    }
   ],
   "source": [
    "import pygraphviz as pgv\n",
    "from IPython.display import Image\n",
    "\n",
    "state_machine_example_spec = \"\"\"digraph {\n",
    "    \"closed\" [color=blue, shape=box];\n",
    "    \"closed\" -> \"syn-sent\" [color=green, label=\"Active open\"];\n",
    "    \"syn-sent\" -> \"established\" [color=green, label=\"Rx (SYN+ACK), Tx (ACK)\"];\n",
    "    \"established\" -> \"fin-wait-1\" [color=green, label=\"Close, Tx (FIN)\"];\n",
    "}\"\"\"\n",
    "\n",
    "state_machine_example = pgv.AGraph(state_machine_example_spec,\n",
    "    label=\"TCP state machine\", strict=False, directed=True)\n",
    "\n",
    "# Draw the state machine\n",
    "Image(state_machine_example.draw(format='png', prog='dot')) "
   ]
  },
  {
   "cell_type": "code",
   "execution_count": null,
   "metadata": {
    "collapsed": true
   },
   "outputs": [],
   "source": []
  }
 ],
 "metadata": {
  "kernelspec": {
   "display_name": "Python 2",
   "language": "python",
   "name": "python2"
  },
  "language_info": {
   "codemirror_mode": {
    "name": "ipython",
    "version": 2
   },
   "file_extension": ".py",
   "mimetype": "text/x-python",
   "name": "python",
   "nbconvert_exporter": "python",
   "pygments_lexer": "ipython2",
   "version": "2.7.13"
  }
 },
 "nbformat": 4,
 "nbformat_minor": 0
}
