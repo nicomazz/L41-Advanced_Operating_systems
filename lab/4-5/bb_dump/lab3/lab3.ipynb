{
 "cells": [
  {
   "cell_type": "markdown",
   "metadata": {},
   "source": [
    "## Dependencies setup"
   ]
  },
  {
   "cell_type": "code",
   "execution_count": 5,
   "metadata": {
    "collapsed": false
   },
   "outputs": [
    {
     "name": "stdout",
     "output_type": "stream",
     "text": [
      "The autoreload extension is already loaded. To reload it, use:\n",
      "  %reload_ext autoreload\n"
     ]
    }
   ],
   "source": [
    "%load_ext autoreload\n",
    "%autoreload 2\n",
    "%matplotlib inline\n",
    "\n",
    "\n",
    "# all the functions are in lib/\n",
    "from lib.test import *\n",
    "\n",
    "def setup_dependencies():\n",
    "    # This callback is needed to execute commands from the outside file in lib/\n",
    "    def exec_cmd(cmd):\n",
    "        out = !{cmd}\n",
    "        return out\n",
    "\n",
    "    set_exec_callback(exec_cmd)\n",
    "    setup_kernel()\n",
    "    \n",
    "setup_dependencies()"
   ]
  },
  {
   "cell_type": "code",
   "execution_count": 3,
   "metadata": {
    "collapsed": false
   },
   "outputs": [
    {
     "name": "stdout",
     "output_type": "stream",
     "text": [
      "/data/lab3\r\n"
     ]
    }
   ],
   "source": [
    "!pwd"
   ]
  },
  {
   "cell_type": "code",
   "execution_count": 4,
   "metadata": {
    "collapsed": false
   },
   "outputs": [
    {
     "name": "stdout",
     "output_type": "stream",
     "text": [
      "\u001b[34m.ipynb_checkpoints\u001b[m\u001b[m  lab3.ipynb          \u001b[34mlib\u001b[m\u001b[m\r\n",
      "\u001b[34mipc\u001b[m\u001b[m                 lab4_template.ipynb\r\n"
     ]
    }
   ],
   "source": [
    "!ls"
   ]
  }
 ],
 "metadata": {
  "kernelspec": {
   "display_name": "Python 2",
   "language": "python",
   "name": "python2"
  }
 },
 "nbformat": 4,
 "nbformat_minor": 1
}
