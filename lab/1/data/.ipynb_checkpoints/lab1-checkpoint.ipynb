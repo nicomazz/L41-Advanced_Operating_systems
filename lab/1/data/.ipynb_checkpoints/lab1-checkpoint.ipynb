{
 "cells": [
  {
   "cell_type": "code",
   "execution_count": 1,
   "metadata": {
    "collapsed": false
   },
   "outputs": [
    {
     "name": "stdout",
     "output_type": "stream",
     "text": [
      "894030.37 KBytes/sec\r\n"
     ]
    }
   ],
   "source": [
    "!io/io-static -r /dev/zero"
   ]
  },
  {
   "cell_type": "code",
   "execution_count": 1,
   "metadata": {
    "collapsed": false,
    "scrolled": false
   },
   "outputs": [
    {
     "name": "stdout",
     "output_type": "stream",
     "text": [
      "io-static -c|-r|-w [-Bdqsv] [-b buffersize] [-t totalsize] path\r\n",
      "\r\n",
      "Modes (pick one):\r\n",
      "    -c              'create mode': create benchmark data file\r\n",
      "    -r              'read mode': read() benchmark\r\n",
      "    -w              'write mode': write() benchmark\r\n",
      "\r\n",
      "Optional flags:\r\n",
      "    -B              Run in bare mode: no preparatory activities\r\n",
      "    -d              Set O_DIRECT flag to bypass buffer cache\r\n",
      "    -q              Just run the benchmark, don't print stuff out\r\n",
      "    -s              Call fsync() on the file descriptor when complete\r\n",
      "    -v              Provide a verbose benchmark description\r\n",
      "    -b buffersize    Specify a buffer size (default: 16384)\r\n",
      "    -t totalsize    Specify total I/O size (default: 16777216)\r\n"
     ]
    }
   ],
   "source": [
    "!io/io-static"
   ]
  },
  {
   "cell_type": "code",
   "execution_count": 3,
   "metadata": {
    "collapsed": false
   },
   "outputs": [
    {
     "name": "stdout",
     "output_type": "stream",
     "text": [
      "total 16552\r\n",
      "drwxr-xr-x   9 root  wheel          512 Jan 27 23:35 \u001b[34m.\u001b[m\u001b[m\r\n",
      "drwxr-xr-x  19 1001  1001          1024 Jan 27 22:25 \u001b[34m..\u001b[m\u001b[m\r\n",
      "drwxr-xr-x   2 root  wheel          512 Jan 27 23:39 \u001b[34m.ipynb_checkpoints\u001b[m\u001b[m\r\n",
      "drwxr-xr-x   5 root  wheel          512 Jan 27 20:22 \u001b[34m.ipython\u001b[m\u001b[m\r\n",
      "drwxr-xr-x   2 root  wheel          512 Jan 27 20:22 \u001b[34m.jupyter\u001b[m\u001b[m\r\n",
      "drwx------   3 root  wheel          512 Jan 27 20:23 \u001b[34m.local\u001b[m\u001b[m\r\n",
      "drwxrwx---   2 root  operator       512 Jan 27 22:26 \u001b[34m.snap\u001b[m\u001b[m\r\n",
      "-rw-r--r--   1 root  wheel        14520 Jan 27 23:16 2019-2020-l41-lab1-performance.pdf\r\n",
      "-rw-r--r--   1 root  wheel        54939 Jan 28 00:00 2019-2020-l41-lab1-template.ipynb\r\n",
      "-rw-r--r--   1 root  wheel         3872 Jan 27 21:56 2019-2020-l41-lab1.data\r\n",
      "-rw-r--r--   1 root  wheel           12 Jan 27 22:52 data.out\r\n",
      "drwxr-xr-x   2 501   501            512 Jan 27 22:55 \u001b[34mio\u001b[m\u001b[m\r\n",
      "-rw-------   1 root  wheel     16777216 Jan 27 23:44 iofile\r\n",
      "drwxr-xr-x   2 501   staff          512 Nov  4  2015 \u001b[34mipc\u001b[m\u001b[m\r\n",
      "-rw-r--r--   1 root  wheel        18490 Jan 27 23:35 lab1.ipynb\r\n"
     ]
    }
   ],
   "source": [
    "!ls -al"
   ]
  },
  {
   "cell_type": "code",
   "execution_count": 2,
   "metadata": {
    "collapsed": false
   },
   "outputs": [
    {
     "name": "stdout",
     "output_type": "stream",
     "text": [
      "Benchmark configuration:\r\n",
      "  buffersize: 16384\r\n",
      "  totalsize: 16777216\r\n",
      "  blockcount: 1024\r\n",
      "  operation: write\r\n",
      "  path: iofile\r\n",
      "  time: 2.067294916\r\n",
      "7925.33 KBytes/sec\r\n"
     ]
    }
   ],
   "source": [
    "!io/io-static -v -w iofile\n"
   ]
  },
  {
   "cell_type": "code",
   "execution_count": 3,
   "metadata": {
    "collapsed": false
   },
   "outputs": [
    {
     "name": "stdout",
     "output_type": "stream",
     "text": [
      "real 1.29\r\n",
      "user 0.00\r\n",
      "sys 0.31\r\n"
     ]
    }
   ],
   "source": [
    "!/usr/bin/time -p io/io-static -r -B -d -q iofile"
   ]
  },
  {
   "cell_type": "code",
   "execution_count": 4,
   "metadata": {
    "collapsed": false
   },
   "outputs": [
    {
     "name": "stdout",
     "output_type": "stream",
     "text": [
      "Benchmark configuration:\r\n",
      "  buffersize: 16384\r\n",
      "  totalsize: 16777216\r\n",
      "  blockcount: 1024\r\n",
      "  operation: create\r\n",
      "  path: iofile\r\n",
      "  time: 1.953609542\r\n",
      "8386.53 KBytes/sec\r\n"
     ]
    }
   ],
   "source": [
    "!io/io-static -c iofile"
   ]
  },
  {
   "cell_type": "code",
   "execution_count": 2,
   "metadata": {
    "collapsed": false
   },
   "outputs": [
    {
     "name": "stdout",
     "output_type": "stream",
     "text": [
      "********************************************************************************\n",
      "* Starting io-static read performance measurement\n",
      "********************************************************************************\n",
      "new value:\n",
      "Hello world\n",
      "new value:\n",
      "89245356\n",
      "new value:\n",
      "\n",
      "new value:\n",
      "89245356\n",
      "new value:\n",
      "\n",
      "new value:\n",
      "89245356\n",
      "new value:\n",
      "\n",
      "('action:', 1796)\n",
      "('id:', 1)\n",
      "('key:', [])\n",
      "('values:', 89245356L)\n",
      "-----------\n",
      "('values:', ['Hello world', '89245356', '', '89245356', '', '89245356', ''])\n",
      "('walk dict: ', defaultdict(<type 'int'>, {}))\n",
      "********************************************************************************\n",
      "* Finished io-static read performance measurement\n",
      "********************************************************************************\n"
     ]
    }
   ],
   "source": [
    "# D Language script\n",
    "io_performance_script = \"\"\"\n",
    "\n",
    "BEGIN {\n",
    "    printf(\"Hello world\");\n",
    "}\n",
    "\n",
    "syscall::clock_gettime:return\n",
    "/execname == \"io-static\" && !self->in_benchmark/\n",
    "{\n",
    "    self->in_benchmark = 1;\n",
    "    self->cstart = vtimestamp;\n",
    "}\n",
    "\n",
    "syscall::clock_gettime:entry\n",
    "/execname == \"io-static\" && self->in_benchmark && self->cstart/\n",
    "{\n",
    "    self->in_benchmark = 0;\n",
    "    @len = avg(vtimestamp - self->cstart);\n",
    "    \n",
    "    printa(@len);\n",
    "    printf(\"%d\",vtimestamp - self->cstart);\n",
    "}\n",
    "\n",
    "END\n",
    "{\n",
    "    printa(@len);\n",
    "    printf(\"ended\");\n",
    "    exit(0);\n",
    "}\n",
    "\"\"\"\n",
    "\n",
    "from collections import defaultdict\n",
    "walk_dict = defaultdict(int)\n",
    "\n",
    "values = []\n",
    "\n",
    "# Callback invoked to print the trace record\n",
    "# (that is, printf(\"%u\", vtimestamp - self->start))\n",
    "def simple_out(value):\n",
    "    print(\"new value:\")\n",
    "    print(value)\n",
    "    values.append(value)\n",
    "    \n",
    "def walk_f(action, identifier, key, values):\n",
    "    print(\"action:\",action)\n",
    "    print(\"id:\", identifier)\n",
    "    print(\"key:\",key)\n",
    "    print(\"values:\",values)\n",
    "    print(\"-----------\")\n",
    "    #walk_dict[key[0]] += values\n",
    "\n",
    "# Create a seperate thread to run the DTrace instrumentation\n",
    "dtrace_thread = DTraceConsumerThread(io_performance_script,\n",
    "                                    chew_func=lambda v: None,\n",
    "                                    chewrec_func=lambda v: None,\n",
    "                                    out_func=simple_out,\n",
    "                                    walk_func=walk_f,\n",
    "                                    sleep=1)\n",
    "\n",
    "# Start the DTrace instrumentation\n",
    "dtrace_thread.start()\n",
    "\n",
    "# Display header to indicate that the benchmarking has started\n",
    "print_header([\"Starting io-static read performance measurement\"])\n",
    "\n",
    "# Run the io-static benchmark    \n",
    "TOTAL_SIZE = 16*1024*1024\n",
    "BUFFER_SIZE = 8192\n",
    "\n",
    "for trials in range(0, 2):\n",
    "    output = !io/io-static -r -B -q -b {str(BUFFER_SIZE)} -t {str(TOTAL_SIZE)} iofile\n",
    "        \n",
    "# The benchmark has completed - stop the DTrace instrumentation\n",
    "dtrace_thread.stop()\n",
    "dtrace_thread.join()\n",
    "dtrace_thread.consumer.__del__()\n",
    "print(\"values:\", values)\n",
    "print(\"walk dict: \",walk_dict)\n",
    "# Compute and print the average time\n",
    "#average_time = sum(values[1:])/len(values[1:])\n",
    "#print(\"Average time = {} nsec\".format(average_time))\n",
    "# print(\"Average bandwidth = {} KiBytes/sec\".format((TOTAL_SIZE/1024)/(average_time/1e9)))\n",
    "\n",
    "# Display footer to indicate that the benchmarking has finished\n",
    "print_footer([\"Finished io-static read performance measurement\"])"
   ]
  },
  {
   "cell_type": "code",
   "execution_count": null,
   "metadata": {
    "collapsed": true
   },
   "outputs": [],
   "source": []
  }
 ],
 "metadata": {
  "kernelspec": {
   "display_name": "Python 2",
   "language": "python",
   "name": "python2"
  },
  "language_info": {
   "codemirror_mode": {
    "name": "ipython",
    "version": 2
   },
   "file_extension": ".py",
   "mimetype": "text/x-python",
   "name": "python",
   "nbconvert_exporter": "python",
   "pygments_lexer": "ipython2",
   "version": "2.7.13"
  }
 },
 "nbformat": 4,
 "nbformat_minor": 1
}
