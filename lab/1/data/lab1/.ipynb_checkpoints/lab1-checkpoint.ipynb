{
 "cells": [
  {
   "cell_type": "code",
   "execution_count": 3,
   "metadata": {
    "collapsed": false,
    "scrolled": false
   },
   "outputs": [
    {
     "name": "stdout",
     "output_type": "stream",
     "text": [
      "Benchmark configuration:\r\n",
      "  buffersize: 16384\r\n",
      "  totalsize: 16777216\r\n",
      "  blockcount: 1024\r\n",
      "  operation: create\r\n",
      "  path: iofile\r\n",
      "  time: 2.055441251\r\n",
      "7971.04 KBytes/sec\r\n"
     ]
    }
   ],
   "source": [
    "!io/io-static -c iofile"
   ]
  },
  {
   "cell_type": "code",
   "execution_count": 2,
   "metadata": {
    "collapsed": false,
    "scrolled": true
   },
   "outputs": [
    {
     "name": "stdout",
     "output_type": "stream",
     "text": [
      "887074.12 KBytes/sec\r\n"
     ]
    }
   ],
   "source": [
    "flags = \"-r\"\n",
    "!io/io-static {str(flags)} /dev/zero"
   ]
  },
  {
   "cell_type": "code",
   "execution_count": 4,
   "metadata": {
    "collapsed": false
   },
   "outputs": [
    {
     "name": "stdout",
     "output_type": "stream",
     "text": [
      "127114.95 KBytes/sec\r\n"
     ]
    }
   ],
   "source": [
    "flags = \"-r\"\n",
    "!io/io-static {str(flags)} -B  -b 4096 -t {str(16*1024*1024)} iofile"
   ]
  },
  {
   "cell_type": "code",
   "execution_count": 2,
   "metadata": {
    "collapsed": false,
    "scrolled": true
   },
   "outputs": [
    {
     "name": "stdout",
     "output_type": "stream",
     "text": [
      "Benchmark configuration:\r\n",
      "  buffersize: 16384\r\n",
      "  totalsize: 16777216\r\n",
      "  blockcount: 1024\r\n",
      "  operation: write\r\n",
      "  path: iofile\r\n",
      "  time: 2.067294916\r\n",
      "7925.33 KBytes/sec\r\n"
     ]
    }
   ],
   "source": [
    "!io/io-static -v -w iofile\n"
   ]
  },
  {
   "cell_type": "code",
   "execution_count": 3,
   "metadata": {
    "collapsed": false,
    "scrolled": true
   },
   "outputs": [
    {
     "name": "stdout",
     "output_type": "stream",
     "text": [
      "real 1.29\r\n",
      "user 0.00\r\n",
      "sys 0.31\r\n"
     ]
    }
   ],
   "source": [
    "!/usr/bin/time -p io/io-static -r -B -d -q iofile"
   ]
  },
  {
   "cell_type": "code",
   "execution_count": 1,
   "metadata": {
    "collapsed": false,
    "scrolled": true
   },
   "outputs": [
    {
     "name": "stdout",
     "output_type": "stream",
     "text": [
      "/bin/sh: io/io-static: not found\r\n"
     ]
    }
   ],
   "source": [
    "!io/io-static -c iofile"
   ]
  },
  {
   "cell_type": "code",
   "execution_count": 1,
   "metadata": {
    "collapsed": false,
    "scrolled": true
   },
   "outputs": [],
   "source": [
    "# IO performance varying the buffer size\n",
    "io_performance_script = \"\"\"\n",
    "\n",
    "BEGIN {\n",
    "}\n",
    "\n",
    "syscall::clock_gettime:return\n",
    "/execname == \"io-static\" && !self->in_benchmark/\n",
    "{\n",
    "    self->in_benchmark = 1;\n",
    "    self->cstart = vtimestamp;\n",
    "}\n",
    "\n",
    "syscall::clock_gettime:entry\n",
    "/execname == \"io-static\" && self->in_benchmark/\n",
    "{\n",
    "    self->in_benchmark = 0;\n",
    "    trace(vtimestamp - self->cstart);\n",
    "}\n",
    "\n",
    "END\n",
    "{\n",
    "    exit(0);\n",
    "}\n",
    "\"\"\"\n",
    "\n",
    "from collections import defaultdict\n",
    "walk_dict = defaultdict(int)\n",
    "\n",
    "values = []\n",
    "from collections import defaultdict\n",
    "aggr_dict = defaultdict(int)\n",
    "\n",
    "\n",
    "# Callback invoked to print the trace record\n",
    "# (that is, printf(\"%u\", vtimestamp - self->start))\n",
    "\n",
    "\n",
    "def benchmark(flags, output_name, trials, buff_sizes, file_name, dtrace_script):\n",
    "    values = []\n",
    "    aggr_dict = defaultdict(int)\n",
    "    \n",
    "    def simple_out(value):\n",
    "        values.append(value)\n",
    "    \n",
    "    def walk_func(a, b, c, d):\n",
    "        aggr_dict[c[0]] += d\n",
    "    \n",
    "    print_header([\"Starting io-static performance measurement\",flags])\n",
    "\n",
    "        # Create a seperate thread to run the DTrace instrumentation\n",
    "    dtrace_thread = DTraceConsumerThread(dtrace_script,\n",
    "                                        chew_func=lambda v: None,\n",
    "                                        chewrec_func=lambda v: None,\n",
    "                                        out_func=simple_out,\n",
    "                                        walk_func=walk_func,\n",
    "                                        sleep=1)\n",
    "\n",
    "    # Start the DTrace instrumentation\n",
    "    dtrace_thread.start()\n",
    "\n",
    "    # Display header to indicate that the benchmarking has started\n",
    "    for size in buff_sizes:\n",
    "        print(\"buffer size:\", size, \"collected so far: \",len(values))\n",
    "        for i in range(0,trials):\n",
    "            output = !io/io-static {flags} -B -q -b {str(size)} -t {str(TOTAL_SIZE)} {file_name}\n",
    "\n",
    "    # The benchmark has completed - stop the DTrace instrumentation\n",
    "    dtrace_thread.stop()\n",
    "    dtrace_thread.join()\n",
    "    dtrace_thread.consumer.__del__()\n",
    "\n",
    "    print(\"values collected:\", len(values))\n",
    "\n",
    "    with open(\"lab1_{}_0702.data\".format(output_name), 'w') as f:\n",
    "        f.write(\",\".join([str(s) for s in BUFFER_SIZES]))\n",
    "        f.write(\"\\n\")\n",
    "        for value in values:\n",
    "            f.write(value)\n",
    "            f.write(\"\\n\")\n",
    "    return values"
   ]
  },
  {
   "cell_type": "code",
   "execution_count": 2,
   "metadata": {
    "collapsed": true
   },
   "outputs": [],
   "source": [
    "# Run the io-static benchmark    \n",
    "TOTAL_SIZE = 16*1024*1024\n",
    "BUFFER_SIZES = [1024 * 2 ** exp for exp in range(0, 15)]\n",
    "NUM_TRIALS = 10"
   ]
  },
  {
   "cell_type": "code",
   "execution_count": 13,
   "metadata": {
    "collapsed": false
   },
   "outputs": [
    {
     "name": "stdout",
     "output_type": "stream",
     "text": [
      "********************************************************************************\n",
      "* Starting io-static performance measurement\n",
      "* -r\n",
      "********************************************************************************\n",
      "('buffer size:', 1024, 'collected so far: ', 0)\n",
      "('buffer size:', 2048, 'collected so far: ', 17)\n",
      "('buffer size:', 4096, 'collected so far: ', 31)\n",
      "('buffer size:', 8192, 'collected so far: ', 57)\n",
      "('buffer size:', 16384, 'collected so far: ', 76)\n",
      "('buffer size:', 32768, 'collected so far: ', 97)\n",
      "('buffer size:', 65536, 'collected so far: ', 117)\n",
      "('buffer size:', 131072, 'collected so far: ', 138)\n",
      "('buffer size:', 262144, 'collected so far: ', 159)\n",
      "('buffer size:', 524288, 'collected so far: ', 169)\n",
      "('buffer size:', 1048576, 'collected so far: ', 189)\n",
      "('buffer size:', 2097152, 'collected so far: ', 209)\n",
      "('buffer size:', 4194304, 'collected so far: ', 230)\n",
      "('buffer size:', 8388608, 'collected so far: ', 250)\n",
      "('buffer size:', 16777216, 'collected so far: ', 270)\n",
      "('values collected:', 299)\n",
      "********************************************************************************\n",
      "* Finished io-static read performance measurement\n",
      "********************************************************************************\n"
     ]
    }
   ],
   "source": [
    "benchmark(\"-r\", \"read\",NUM_TRIALS,BUFFER_SIZES, \"iofile\",io_performance_script)\n",
    "print_footer([\"Finished io-static read performance measurement\"])"
   ]
  },
  {
   "cell_type": "code",
   "execution_count": 14,
   "metadata": {
    "collapsed": false
   },
   "outputs": [
    {
     "name": "stdout",
     "output_type": "stream",
     "text": [
      "********************************************************************************\n",
      "* Starting io-static performance measurement\n",
      "* -w\n",
      "********************************************************************************\n",
      "('buffer size:', 1024, 'collected so far: ', 0)\n",
      "('buffer size:', 2048, 'collected so far: ', 18)\n",
      "('buffer size:', 4096, 'collected so far: ', 38)\n",
      "('buffer size:', 8192, 'collected so far: ', 58)\n",
      "('buffer size:', 16384, 'collected so far: ', 78)\n",
      "('buffer size:', 32768, 'collected so far: ', 98)\n",
      "('buffer size:', 65536, 'collected so far: ', 118)\n",
      "('buffer size:', 131072, 'collected so far: ', 138)\n",
      "('buffer size:', 262144, 'collected so far: ', 158)\n",
      "('buffer size:', 524288, 'collected so far: ', 178)\n",
      "('buffer size:', 1048576, 'collected so far: ', 198)\n",
      "('buffer size:', 2097152, 'collected so far: ', 218)\n",
      "('buffer size:', 4194304, 'collected so far: ', 238)\n",
      "('buffer size:', 8388608, 'collected so far: ', 258)\n",
      "('buffer size:', 16777216, 'collected so far: ', 278)\n",
      "('values collected:', 299)\n",
      "********************************************************************************\n",
      "* Finished io-static write performance measurement\n",
      "********************************************************************************\n"
     ]
    }
   ],
   "source": [
    "benchmark(\"-w\", \"write\",NUM_TRIALS,BUFFER_SIZES, \"iofile\",io_performance_script)\n",
    "print_footer([\"Finished io-static write performance measurement\"])"
   ]
  },
  {
   "cell_type": "code",
   "execution_count": 20,
   "metadata": {
    "collapsed": false
   },
   "outputs": [
    {
     "name": "stdout",
     "output_type": "stream",
     "text": [
      "********************************************************************************\n",
      "* Starting io-static performance measurement\n",
      "* -r\n",
      "********************************************************************************\n",
      "('buffer size:', 1024, 'collected so far: ', 0)\n",
      "('buffer size:', 2048, 'collected so far: ', 11)\n",
      "('buffer size:', 4096, 'collected so far: ', 24)\n",
      "('buffer size:', 8192, 'collected so far: ', 53)\n",
      "('buffer size:', 16384, 'collected so far: ', 69)\n",
      "('buffer size:', 32768, 'collected so far: ', 83)\n",
      "('buffer size:', 65536, 'collected so far: ', 113)\n",
      "('buffer size:', 131072, 'collected so far: ', 129)\n",
      "('buffer size:', 262144, 'collected so far: ', 143)\n",
      "('buffer size:', 524288, 'collected so far: ', 173)\n",
      "('buffer size:', 1048576, 'collected so far: ', 186)\n",
      "('buffer size:', 2097152, 'collected so far: ', 212)\n",
      "('buffer size:', 4194304, 'collected so far: ', 237)\n",
      "('buffer size:', 8388608, 'collected so far: ', 249)\n",
      "('buffer size:', 16777216, 'collected so far: ', 273)\n",
      "('values collected:', 299)\n"
     ]
    }
   ],
   "source": [
    "benchmark(\"-r\", \"read_zero\",NUM_TRIALS,BUFFER_SIZES, \"/dev/zero\",io_performance_script)\n"
   ]
  },
  {
   "cell_type": "code",
   "execution_count": 21,
   "metadata": {
    "collapsed": false
   },
   "outputs": [
    {
     "name": "stdout",
     "output_type": "stream",
     "text": [
      "********************************************************************************\n",
      "* Starting io-static performance measurement\n",
      "* -w\n",
      "********************************************************************************\n",
      "('buffer size:', 1024, 'collected so far: ', 0)\n",
      "('buffer size:', 2048, 'collected so far: ', 15)\n",
      "('buffer size:', 4096, 'collected so far: ', 31)\n",
      "('buffer size:', 8192, 'collected so far: ', 48)\n",
      "('buffer size:', 16384, 'collected so far: ', 65)\n",
      "('buffer size:', 32768, 'collected so far: ', 83)\n",
      "('buffer size:', 65536, 'collected so far: ', 117)\n",
      "('buffer size:', 131072, 'collected so far: ', 135)\n",
      "('buffer size:', 262144, 'collected so far: ', 153)\n",
      "('buffer size:', 524288, 'collected so far: ', 171)\n",
      "('buffer size:', 1048576, 'collected so far: ', 189)\n",
      "('buffer size:', 2097152, 'collected so far: ', 207)\n",
      "('buffer size:', 4194304, 'collected so far: ', 225)\n",
      "('buffer size:', 8388608, 'collected so far: ', 243)\n",
      "('buffer size:', 16777216, 'collected so far: ', 259)\n",
      "('values collected:', 299)\n"
     ]
    }
   ],
   "source": [
    "benchmark(\"-w\", \"write_zero\",NUM_TRIALS,BUFFER_SIZES, \"/dev/zero\",io_performance_script)\n"
   ]
  },
  {
   "cell_type": "code",
   "execution_count": 7,
   "metadata": {
    "collapsed": false,
    "scrolled": true
   },
   "outputs": [],
   "source": [
    "%matplotlib inline\n",
    "\n",
    "def plot_graph(input_data_file, title):\n",
    "    # Plot the read performance (IO bandwidth against buffer size with error bars)\n",
    "    with open(input_data_file, 'r') as f:\n",
    "        content = f.readlines()\n",
    "\n",
    "    # Buffer sizes to compute the performance with\n",
    "    BUFFER_SIZES = [int(v) for v in content[0].split(',')]\n",
    "\n",
    "    # Total size of iofile (default size) = 16MiB\n",
    "    TOTAL_SIZE = BUFFER_SIZES[-1] #16*1024*1024\n",
    "    read_performance_values =  [int(v.strip()) for v in content[1::2]]\n",
    "\n",
    "    # Number of trials for each buffer size\n",
    "    NUM_TRIALS = 10\n",
    "\n",
    "    # Compute the IO bandwidth in KiBytes/sec\n",
    "    io_bandwidth_values = [(TOTAL_SIZE/1024)/(val/1e9) for val in read_performance_values]\n",
    "    io_bandwidth_avg = [sum(io_bandwidth_values[i*NUM_TRIALS:(i+1)*NUM_TRIALS])/NUM_TRIALS for i in range(len(BUFFER_SIZES))]\n",
    "\n",
    "    # Reshape the list into an array of size [len(BUFFER_SIZES), NUM_TRIALS]\n",
    "    io_bandwidth = np.reshape(io_bandwidth_values, (len(BUFFER_SIZES), NUM_TRIALS))[:,:]\n",
    "\n",
    "    # Convert the array of io bandwidth values into a Panda DataFrame\n",
    "    # this allows ploting of the median value and computation of the \n",
    "    # error bars (25 and 75 percentile values)\n",
    "    # Note: The error bars should be small indicating that the experiment is tightly controlled\n",
    "    df = pd.DataFrame(io_bandwidth, index=BUFFER_SIZES)\n",
    "\n",
    "    # Compute error bars based on the 25 and 75 quartile values\n",
    "    error_bars = df.quantile([.25, .75], axis=1)\n",
    "    error_bars.loc[[0.25]] = df.median(1) - error_bars.loc[[0.25]]\n",
    "    error_bars.loc[[0.75]] = error_bars.loc[[0.75]] - df.median(1)\n",
    "    error_bars_values = [error_bars.values]\n",
    "\n",
    "    # Create and label the plot\n",
    "    plt.figure();\n",
    "    df.median(1).plot(figsize=(9,9), yerr=error_bars_values)#, label=\"io-static {}\".format(label))\n",
    "    plt.title(title)#'io-static {} performance'.format(label))\n",
    "    plt.ylabel('I/O bandwidth (KiBytes/sec)')\n",
    "    plt.xlabel('Buffer size (Bytes)')\n",
    "    plt.xscale('log')\n",
    "\n",
    "    # Plot a vertical line at 1MiB\n",
    "    #plt.axvline(x=1024*1024, color='g')\n",
    "    max_perf = np.argmax(np.array(io_bandwidth_avg))\n",
    "    plt.axvline(x=BUFFER_SIZES[max_perf], color='r')\n",
    "    print(max_perf,BUFFER_SIZES[max_perf])\n",
    "\n",
    "    plt.savefig(\"io_performance_{}.png\".format(title.replace(\"/\",\"\").replace(\" \",\"_\")))"
   ]
  },
  {
   "cell_type": "code",
   "execution_count": 8,
   "metadata": {
    "collapsed": false,
    "scrolled": false
   },
   "outputs": [
    {
     "name": "stdout",
     "output_type": "stream",
     "text": [
      "(5, 32768)\n"
     ]
    },
    {
     "data": {
      "image/png": "[encoded data removed]",
      "text/plain": [
       "<matplotlib.figure.Figure at 0x24ab3c30>"
      ]
     },
     "metadata": {},
     "output_type": "display_data"
    }
   ],
   "source": [
    "plot_graph(\"lab1_read_0702.data\", \"I/O bandwidth read from file\")\n"
   ]
  },
  {
   "cell_type": "code",
   "execution_count": 9,
   "metadata": {
    "collapsed": false
   },
   "outputs": [
    {
     "name": "stdout",
     "output_type": "stream",
     "text": [
      "(4, 16384)\n"
     ]
    },
    {
     "data": {
      "image/png": "[encoded data removed]",
      "text/plain": [
       "<matplotlib.figure.Figure at 0x251df0f0>"
      ]
     },
     "metadata": {},
     "output_type": "display_data"
    }
   ],
   "source": [
    "plot_graph(\"lab1_write_0702.data\", \"I/O bandwidth write to file\")"
   ]
  },
  {
   "cell_type": "code",
   "execution_count": 10,
   "metadata": {
    "collapsed": false
   },
   "outputs": [
    {
     "name": "stdout",
     "output_type": "stream",
     "text": [
      "(6, 65536)\n"
     ]
    },
    {
     "data": {
      "image/png": "[encoded data removed]",
      "text/plain": [
       "<matplotlib.figure.Figure at 0x25ae4630>"
      ]
     },
     "metadata": {},
     "output_type": "display_data"
    }
   ],
   "source": [
    "plot_graph(\"lab1_read_zero_0702.data\", \"I/O bandwidth read from /dev/zero\")\n"
   ]
  },
  {
   "cell_type": "code",
   "execution_count": 11,
   "metadata": {
    "collapsed": false,
    "scrolled": false
   },
   "outputs": [
    {
     "name": "stdout",
     "output_type": "stream",
     "text": [
      "(14, 16777216)\n"
     ]
    },
    {
     "data": {
      "image/png": "[encoded data removed]",
      "text/plain": [
       "<matplotlib.figure.Figure at 0x25bc7590>"
      ]
     },
     "metadata": {},
     "output_type": "display_data"
    }
   ],
   "source": [
    "plot_graph(\"lab1_write_zero_0702.data\", \"I/O bandwidth write to /dev/zero\")\n"
   ]
  },
  {
   "cell_type": "code",
   "execution_count": 14,
   "metadata": {
    "collapsed": false,
    "scrolled": true
   },
   "outputs": [
    {
     "name": "stdout",
     "output_type": "stream",
     "text": [
      "********************************************************************************\n",
      "* Starting io-static performance measurement\n",
      "* -r\n",
      "********************************************************************************\n",
      "('buffer size:', 32768, 'collected so far: ', 0)\n",
      "('values collected:', 1)\n",
      "********************************************************************************\n",
      "* Starting io-static performance measurement\n",
      "* -r\n",
      "********************************************************************************\n",
      "('buffer size:', 32768, 'collected so far: ', 0)\n",
      "('values collected:', 2)\n",
      "Probe effect: 1338.28287ms\n",
      "********************************************************************************\n",
      "* Starting io-static performance measurement\n",
      "* -r\n",
      "********************************************************************************\n",
      "('buffer size:', 32768, 'collected so far: ', 0)\n",
      "('values collected:', 1)\n",
      "********************************************************************************\n",
      "* Starting io-static performance measurement\n",
      "* -r\n",
      "********************************************************************************\n",
      "('buffer size:', 32768, 'collected so far: ', 0)\n",
      "('values collected:', 2)\n",
      "Probe effect: 1238.829761ms\n",
      "********************************************************************************\n",
      "* Starting io-static performance measurement\n",
      "* -r\n",
      "********************************************************************************\n",
      "('buffer size:', 32768, 'collected so far: ', 0)\n",
      "('values collected:', 1)\n",
      "********************************************************************************\n",
      "* Starting io-static performance measurement\n",
      "* -r\n",
      "********************************************************************************\n",
      "('buffer size:', 32768, 'collected so far: ', 0)\n",
      "('values collected:', 2)\n",
      "Probe effect: 1357.214149ms\n",
      "********************************************************************************\n",
      "* Starting io-static performance measurement\n",
      "* -r\n",
      "********************************************************************************\n",
      "('buffer size:', 32768, 'collected so far: ', 0)\n",
      "('values collected:', 1)\n",
      "********************************************************************************\n",
      "* Starting io-static performance measurement\n",
      "* -r\n",
      "********************************************************************************\n",
      "('buffer size:', 32768, 'collected so far: ', 0)\n",
      "('values collected:', 2)\n",
      "Probe effect: 1377.969243ms\n",
      "********************************************************************************\n",
      "* Starting io-static performance measurement\n",
      "* -r\n",
      "********************************************************************************\n",
      "('buffer size:', 32768, 'collected so far: ', 0)\n",
      "('values collected:', 1)\n",
      "********************************************************************************\n",
      "* Starting io-static performance measurement\n",
      "* -r\n",
      "********************************************************************************\n",
      "('buffer size:', 32768, 'collected so far: ', 0)\n",
      "('values collected:', 2)\n",
      "Probe effect: 1233.468872ms\n",
      "********************************************************************************\n",
      "* Starting io-static performance measurement\n",
      "* -r\n",
      "********************************************************************************\n",
      "('buffer size:', 32768, 'collected so far: ', 0)\n",
      "('values collected:', 1)\n",
      "********************************************************************************\n",
      "* Starting io-static performance measurement\n",
      "* -r\n",
      "********************************************************************************\n",
      "('buffer size:', 32768, 'collected so far: ', 0)\n",
      "('values collected:', 2)\n",
      "Probe effect: 1291.585855ms\n",
      "********************************************************************************\n",
      "* Starting io-static performance measurement\n",
      "* -r\n",
      "********************************************************************************\n",
      "('buffer size:', 32768, 'collected so far: ', 0)\n",
      "('values collected:', 1)\n",
      "********************************************************************************\n",
      "* Starting io-static performance measurement\n",
      "* -r\n",
      "********************************************************************************\n",
      "('buffer size:', 32768, 'collected so far: ', 0)\n",
      "('values collected:', 2)\n",
      "Probe effect: 1305.148881ms\n",
      "********************************************************************************\n",
      "* Starting io-static performance measurement\n",
      "* -r\n",
      "********************************************************************************\n",
      "('buffer size:', 32768, 'collected so far: ', 0)\n",
      "('values collected:', 1)\n",
      "********************************************************************************\n",
      "* Starting io-static performance measurement\n",
      "* -r\n",
      "********************************************************************************\n",
      "('buffer size:', 32768, 'collected so far: ', 0)\n",
      "('values collected:', 2)\n",
      "Probe effect: 841.147696ms\n",
      "********************************************************************************\n",
      "* Starting io-static performance measurement\n",
      "* -r\n",
      "********************************************************************************\n",
      "('buffer size:', 32768, 'collected so far: ', 0)\n",
      "('values collected:', 1)\n",
      "********************************************************************************\n",
      "* Starting io-static performance measurement\n",
      "* -r\n",
      "********************************************************************************\n",
      "('buffer size:', 32768, 'collected so far: ', 0)\n",
      "('values collected:', 2)\n",
      "Probe effect: 1366.090707ms\n",
      "********************************************************************************\n",
      "* Starting io-static performance measurement\n",
      "* -r\n",
      "********************************************************************************\n",
      "('buffer size:', 32768, 'collected so far: ', 0)\n",
      "('values collected:', 1)\n",
      "********************************************************************************\n",
      "* Starting io-static performance measurement\n",
      "* -r\n",
      "********************************************************************************\n",
      "('buffer size:', 32768, 'collected so far: ', 0)\n",
      "('values collected:', 2)\n",
      "Probe effect: 1288.660556ms\n",
      "********************************************************************************\n",
      "* Finished probe effect comaprison. Overhead: 1263.839859ms\n",
      "********************************************************************************\n"
     ]
    }
   ],
   "source": [
    "# probe effect\n",
    "io_performance_script_wno_probes = \"\"\"\n",
    "\n",
    "BEGIN {\n",
    "}\n",
    "\n",
    "syscall::execve:return\n",
    "/execname == \"io-static\" && !self->in_benchmark/\n",
    "{\n",
    "    self->in_benchmark = 1;\n",
    "    self->star_time = vtimestamp;\n",
    "}\n",
    "\n",
    "syscall::exit:entry\n",
    "/execname == \"io-static\" && self->in_benchmark/\n",
    "{\n",
    "    self->in_benchmark = 0;\n",
    "    printf(\"tot %d\",timestamp - self->star_time); \n",
    "}\n",
    "\n",
    "\"\"\"\n",
    "\n",
    "io_performance_script_w_probes = io_performance_script_wno_probes + \"\"\"\n",
    "\n",
    "syscall::clock_gettime:return\n",
    "/execname == \"io-static\" && !self->timing/\n",
    "{\n",
    "    self->timing = 1;\n",
    "    self->clock_start = vtimestamp;\n",
    "}\n",
    "\n",
    "syscall::clock_gettime:entry\n",
    "/execname == \"io-static\" && self->timing/\n",
    "{\n",
    "    self->timing = 0;\n",
    "    printf(\"io %d\",vtimestamp - self->clock_start);\n",
    "}\n",
    "\n",
    "\"\"\"\n",
    "\n",
    "BUFFER_SIZES = [1024 * 2 ** exp for exp in range(5, 6)]\n",
    "TOTAL_SIZE = 16*1024*1024\n",
    "\n",
    "def test_probe_overhead():\n",
    "    wno_probes = benchmark(\"-r\", \"read_wno_probes\",1,BUFFER_SIZES, \"/dev/zero\",io_performance_script_wno_probes)\n",
    "    w_probes = benchmark(\"-r\", \"read_w_probes\",1,BUFFER_SIZES,\"/dev/zero\",io_performance_script_w_probes)\n",
    "\n",
    "    #print(\"With probes:\")\n",
    "    #print(w_probes)\n",
    "    tot_time_with_probes = int(w_probes[1].split(\" \")[1])\n",
    "\n",
    "    #print(\"Without probes:\")\n",
    "    #print(wno_probes)\n",
    "    tot_time_wno_probes = int(wno_probes[0].split(\" \")[1])\n",
    "\n",
    "    probe_overhead = (tot_time_with_probes - tot_time_wno_probes)\n",
    "    print(\"Probe effect: {}ms\".format((tot_time_with_probes - tot_time_wno_probes)/1e6))\n",
    "    return probe_overhead\n",
    "\n",
    "\n",
    "TRIALS = 10\n",
    "avg_probe_overhead = sum([test_probe_overhead() for i in range(10)])/TRIALS\n",
    "\n",
    "print_footer([\"Finished probe effect comaprison. Overhead: {}ms\".format(avg_probe_overhead/1e6)])"
   ]
  },
  {
   "cell_type": "code",
   "execution_count": null,
   "metadata": {
    "collapsed": true
   },
   "outputs": [],
   "source": []
  }
 ],
 "metadata": {
  "kernelspec": {
   "display_name": "Python 2",
   "language": "python",
   "name": "python2"
  },
  "language_info": {
   "codemirror_mode": {
    "name": "ipython",
    "version": 2
   },
   "file_extension": ".py",
   "mimetype": "text/x-python",
   "name": "python",
   "nbconvert_exporter": "python",
   "pygments_lexer": "ipython2",
   "version": "2.7.13"
  }
 },
 "nbformat": 4,
 "nbformat_minor": 1
}
